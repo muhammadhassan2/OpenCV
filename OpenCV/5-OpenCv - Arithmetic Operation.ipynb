{
 "cells": [
  {
   "cell_type": "code",
   "execution_count": 32,
   "metadata": {},
   "outputs": [],
   "source": [
    "import cv2\n",
    "import numpy as np\n",
    "import matplotlib.pyplot as plt"
   ]
  },
  {
   "cell_type": "code",
   "execution_count": 33,
   "metadata": {},
   "outputs": [],
   "source": [
    "img=cv2.imread(\"E:\\\\obama.jpg\")\n",
    "#(uint8) is the data type whice opencv used to store image\n",
    "mask=np.ones(img.shape,dtype='uint8')*20\n",
    "new_img=cv2.add(img,mask)\n",
    "cv2.imshow(\"addition\",new_img)\n",
    "new_img2=cv2.subtract(img,mask)\n",
    "cv2.imshow(\"sub\",new_img2)\n",
    "cv2.waitKey()\n",
    "cv2.destroyAllWindows()"
   ]
  },
  {
   "cell_type": "markdown",
   "metadata": {},
   "source": [
    "# Bitwise Operations"
   ]
  },
  {
   "cell_type": "code",
   "execution_count": 34,
   "metadata": {},
   "outputs": [],
   "source": [
    "square = np.zeros((300, 300), np.uint8)\n",
    "cv2.rectangle(square, (50, 50), (250, 250), 255, -2)\n",
    "cv2.imshow(\"Square\", square)\n",
    "cv2.waitKey(0)\n",
    "ellipse = np.zeros((300, 300), np.uint8)\n",
    "cv2.ellipse(ellipse, (150, 150), (150, 150), 30, 10, 180, 255, -1)\n",
    "cv2.imshow(\"Ellipse\", ellipse)\n",
    "cv2.waitKey(0)\n",
    "cv2.destroyAllWindows()"
   ]
  },
  {
   "cell_type": "code",
   "execution_count": 35,
   "metadata": {},
   "outputs": [],
   "source": [
    "AND=cv2.bitwise_and(square,ellipse)\n",
    "OR=cv2.bitwise_or(square,ellipse)\n",
    "XOR=cv2.bitwise_xor(square,ellipse)\n",
    "NOT=cv2.bitwise_not(ellipse)\n",
    "bitwise=[AND,OR,XOR,NOT]\n",
    "labels=['AND','OR','XOR','NOT']\n",
    "for i in range(len(bitwise)):\n",
    "    cv2.imshow(labels[i],bitwise[i])\n",
    "    cv2.waitKey()\n",
    "cv2.destroyAllWindows()    "
   ]
  },
  {
   "cell_type": "code",
   "execution_count": null,
   "metadata": {},
   "outputs": [],
   "source": []
  },
  {
   "cell_type": "code",
   "execution_count": null,
   "metadata": {},
   "outputs": [],
   "source": []
  }
 ],
 "metadata": {
  "kernelspec": {
   "display_name": "Python 3",
   "language": "python",
   "name": "python3"
  },
  "language_info": {
   "codemirror_mode": {
    "name": "ipython",
    "version": 3
   },
   "file_extension": ".py",
   "mimetype": "text/x-python",
   "name": "python",
   "nbconvert_exporter": "python",
   "pygments_lexer": "ipython3",
   "version": "3.7.5"
  }
 },
 "nbformat": 4,
 "nbformat_minor": 2
}
