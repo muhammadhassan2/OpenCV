{
 "cells": [
  {
   "cell_type": "code",
   "execution_count": 2,
   "metadata": {},
   "outputs": [],
   "source": [
    "import cv2\n",
    "import numpy as np\n",
    "import matplotlib.pyplot as plt"
   ]
  },
  {
   "cell_type": "code",
   "execution_count": 145,
   "metadata": {},
   "outputs": [],
   "source": [
    "img=cv2.imread('E:\\\\obama.jpg')\n",
    "cv2.imshow('Obama',img)\n",
    "cv2.waitKey()\n",
    "cv2.destroyAllWindows()"
   ]
  },
  {
   "cell_type": "markdown",
   "metadata": {},
   "source": [
    "# Transformations \n",
    "Transformations are geometric distortion enacted upon an image\n",
    "### types\n",
    "- Affine\n",
    "- Non-Affinr\n",
    "### Affine:\n",
    "An affine transformation is a type of geometric transformation which preserves collinearity (if a collection of points sits on a line before the transformation, they all sit on a line afterwards) and the ratios of distances between points on a line. Types of affine transformations include translation (moving a figure), scaling (increasing or decreasing the size of a figure), and rotation (turning a figure about a point).\n",
    "- Scaling\n",
    "- Rotation\n",
    "- translation\n",
    "\n"
   ]
  },
  {
   "cell_type": "markdown",
   "metadata": {},
   "source": [
    "# Translation\n",
    "translation: is moving image in one dirction (left ,right ,diag )"
   ]
  },
  {
   "cell_type": "code",
   "execution_count": 146,
   "metadata": {},
   "outputs": [],
   "source": [
    "# We use cv2.warpAffine to implement these transformations.\n",
    "# we need translation matrix\n",
    "#       | 1 0 Tx |\n",
    "#  T  = | 0 1 Ty |\n",
    "# Tx : represent the shift along the x-axis \n",
    "# Ty : represent the shift along the y-axis "
   ]
  },
  {
   "cell_type": "code",
   "execution_count": 147,
   "metadata": {},
   "outputs": [],
   "source": [
    "height, width = img.shape[:2]\n",
    "quarter_height, quarter_width = height/5, width/5\n",
    "T = np.float32([[1, 0, quarter_width], [0, 1,quarter_height]])\n",
    "img_translation = cv2.warpAffine(img, T, (width, height))\n",
    "cv2.imshow('Translation', img_translation)\n",
    "cv2.waitKey()\n",
    "cv2.destroyAllWindows()"
   ]
  },
  {
   "cell_type": "code",
   "execution_count": 148,
   "metadata": {},
   "outputs": [],
   "source": [
    "height, width = img.shape[:2]\n",
    "sz=np.float32([[0,100],[50,50],[100,0]])\n",
    "for i in range(len(sz)):\n",
    "    quarter_height, quarter_width = sz[i]\n",
    "    T = np.float32([[1, 0, quarter_width], [0, 1,quarter_height]])\n",
    "    img_translation = cv2.warpAffine(img, T, (width, height))\n",
    "    cv2.imshow('Translation', img_translation)\n",
    "    cv2.waitKey()\n",
    "    cv2.destroyAllWindows()"
   ]
  },
  {
   "cell_type": "markdown",
   "metadata": {},
   "source": [
    "# Rotation"
   ]
  },
  {
   "cell_type": "code",
   "execution_count": 149,
   "metadata": {},
   "outputs": [],
   "source": [
    "# we need Rotation matrix\n",
    "#       | cos(Θ) -sin(Θ)|\n",
    "#  T  = | sin(Θ) cos(Θ) |\n",
    "# where (Θ) is the rotation angel\n",
    "# But OpenCV provides scaled rotation with adjustable center of rotation so that you can rotate at any location you prefer."
   ]
  },
  {
   "cell_type": "code",
   "execution_count": 150,
   "metadata": {},
   "outputs": [],
   "source": [
    "height, width = img.shape[:2]\n",
    "# get Rotation matrix\n",
    "# cv2.getRotationMatrix2D(rotation_center_x, rotation_center_y, angle of rotation, scale)\n",
    "Tt = cv2.getRotationMatrix2D((width/2, height/2), 90, 0.5)\n",
    "rotated_image = cv2.warpAffine(img, Tt, (width, height))\n",
    "cv2.imshow('Translation', rotated_image)\n",
    "cv2.waitKey()\n",
    "cv2.destroyAllWindows()"
   ]
  },
  {
   "cell_type": "markdown",
   "metadata": {},
   "source": [
    "# Modified transformation matrix"
   ]
  },
  {
   "cell_type": "code",
   "execution_count": 151,
   "metadata": {},
   "outputs": [],
   "source": [
    "theta=90\n",
    "height ,width =(img.shape[:2])\n",
    "a=1*np.cos(theta)\n",
    "b=1*np.sin(theta)\n",
    "T=np.float32([[a,b,(((1-a)*(width/2)-b)*(height/2))],[-b,a,((b)*(width/2)-(1-b)*(height/2))]])\n",
    "rotated_image = cv2.warpAffine(img, T, (width, height))\n",
    "cv2.imshow('Translation', rotated_image)\n",
    "cv2.waitKey()\n",
    "cv2.destroyAllWindows()"
   ]
  },
  {
   "cell_type": "markdown",
   "metadata": {},
   "source": [
    "# Scaling - (Resizing)\n",
    "INTERPOLATION :It happens anytime you resize or remap (distort) your image from one pixel grid to another.\n",
    "Image resizing is necessary when you need to increase or decrease the total number of pixels\n",
    "### Types of interpolation\n",
    "- cv2.INTER_AREA (down sampling)\n",
    "- cv2.INTER_CUBIC (slow) \n",
    "- cv2.INTER_LINEAR for zooming\n",
    "- cv2.INTER_LINEAR (By default)"
   ]
  },
  {
   "cell_type": "code",
   "execution_count": 191,
   "metadata": {},
   "outputs": [],
   "source": [
    "img=cv2.imread(\"E:elephant.jpg\")\n",
    "re_img=cv2.resize(img,None,fx=0.75,fy=0.75)\n",
    "re_img1=cv2.resize(img,None,fx=0.75,fy=0.75,interpolation=cv2.INTER_CUBIC)\n",
    "cv2.imshow('Translation0', re_img)\n",
    "# cv2.imshow('Translation', re_img1)\n",
    "cv2.waitKey()\n",
    "cv2.destroyAllWindows()"
   ]
  },
  {
   "cell_type": "markdown",
   "metadata": {},
   "source": [
    "# transpose"
   ]
  },
  {
   "cell_type": "code",
   "execution_count": 162,
   "metadata": {},
   "outputs": [],
   "source": [
    "rotated_image = cv2.transpose(img)\n",
    "cv2.imshow('Translation', rotated_image)\n",
    "cv2.waitKey()\n",
    "cv2.destroyAllWindows()"
   ]
  },
  {
   "cell_type": "markdown",
   "metadata": {},
   "source": [
    "# fliping"
   ]
  },
  {
   "cell_type": "code",
   "execution_count": 170,
   "metadata": {},
   "outputs": [],
   "source": [
    "img1 = cv2.imread('E:elephant.jpg')\n",
    "flipped = cv2.flip(img1 ,4)\n",
    "cv2.imshow('Horizontal Flip', flipped) \n",
    "cv2.waitKey()\n",
    "cv2.destroyAllWindows()"
   ]
  }
 ],
 "metadata": {
  "kernelspec": {
   "display_name": "Python 3",
   "language": "python",
   "name": "python3"
  },
  "language_info": {
   "codemirror_mode": {
    "name": "ipython",
    "version": 3
   },
   "file_extension": ".py",
   "mimetype": "text/x-python",
   "name": "python",
   "nbconvert_exporter": "python",
   "pygments_lexer": "ipython3",
   "version": "3.7.5"
  }
 },
 "nbformat": 4,
 "nbformat_minor": 2
}
