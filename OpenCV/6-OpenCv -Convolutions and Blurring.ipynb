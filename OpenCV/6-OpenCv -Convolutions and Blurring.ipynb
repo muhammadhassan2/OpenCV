{
 "cells": [
  {
   "cell_type": "code",
   "execution_count": 1,
   "metadata": {},
   "outputs": [],
   "source": [
    "import cv2\n",
    "import numpy as np  "
   ]
  },
  {
   "cell_type": "code",
   "execution_count": 20,
   "metadata": {},
   "outputs": [],
   "source": [
    "im=cv2.imread('E://elephant.jpg')\n",
    "cv2.waitKey()\n",
    "cv2.destroyAllWindows()  "
   ]
  },
  {
   "cell_type": "code",
   "execution_count": 29,
   "metadata": {},
   "outputs": [],
   "source": [
    "\n",
    "kernal=np.ones((5,5))/25\n",
    "blur=cv2.filter2D(im,-1,kernal)\n",
    "cv2.imshow(\"blur\",blur)\n",
    "cv2.waitKey()\n",
    "cv2.destroyAllWindows()  "
   ]
  },
  {
   "cell_type": "code",
   "execution_count": 24,
   "metadata": {},
   "outputs": [],
   "source": [
    "bl=cv2.blur(im,(7,7))\n",
    "cv2.imshow(\"blur\",bl)\n",
    "cv2.waitKey()\n",
    "cv2.destroyAllWindows()  "
   ]
  },
  {
   "cell_type": "code",
   "execution_count": 35,
   "metadata": {},
   "outputs": [
    {
     "data": {
      "text/plain": [
       "array([[255, 255, 254, 253, 253],\n",
       "       [255, 255, 254, 253, 253],\n",
       "       [255, 255, 255, 255, 254],\n",
       "       [255, 255, 255, 255, 254],\n",
       "       [255, 255, 255, 255, 255]], dtype=uint8)"
      ]
     },
     "execution_count": 35,
     "metadata": {},
     "output_type": "execute_result"
    }
   ],
   "source": [
    "im[0:5,0:5,0]"
   ]
  },
  {
   "cell_type": "code",
   "execution_count": 36,
   "metadata": {},
   "outputs": [
    {
     "data": {
      "text/plain": [
       "array([[255, 255, 254, 254, 254],\n",
       "       [255, 255, 254, 254, 254],\n",
       "       [255, 255, 255, 254, 254],\n",
       "       [255, 255, 255, 255, 254],\n",
       "       [255, 255, 255, 255, 255]], dtype=uint8)"
      ]
     },
     "execution_count": 36,
     "metadata": {},
     "output_type": "execute_result"
    }
   ],
   "source": [
    "blur[0:5,0:5,0]"
   ]
  },
  {
   "cell_type": "code",
   "execution_count": 38,
   "metadata": {},
   "outputs": [],
   "source": [
    "imm=cv2.cvtColor(im,cv2.COLOR_BGR2GRAY)"
   ]
  },
  {
   "cell_type": "code",
   "execution_count": 39,
   "metadata": {},
   "outputs": [],
   "source": [
    "kernal=np.ones((5,5))/25\n",
    "blur=cv2.filter2D(imm,-1,kernal)\n",
    "cv2.imshow(\"blur\",blur)\n",
    "cv2.waitKey()\n",
    "cv2.destroyAllWindows()  "
   ]
  },
  {
   "cell_type": "code",
   "execution_count": 47,
   "metadata": {},
   "outputs": [],
   "source": [
    "blur1 = cv2.GaussianBlur(im,(5,5),10)\n",
    "cv2.imshow(\"blur\",blur1)\n",
    "cv2.waitKey()\n",
    "cv2.destroyAllWindows()  "
   ]
  },
  {
   "cell_type": "code",
   "execution_count": null,
   "metadata": {},
   "outputs": [],
   "source": []
  },
  {
   "cell_type": "code",
   "execution_count": null,
   "metadata": {},
   "outputs": [],
   "source": []
  },
  {
   "cell_type": "code",
   "execution_count": null,
   "metadata": {},
   "outputs": [],
   "source": []
  }
 ],
 "metadata": {
  "kernelspec": {
   "display_name": "Python 3",
   "language": "python",
   "name": "python3"
  },
  "language_info": {
   "codemirror_mode": {
    "name": "ipython",
    "version": 3
   },
   "file_extension": ".py",
   "mimetype": "text/x-python",
   "name": "python",
   "nbconvert_exporter": "python",
   "pygments_lexer": "ipython3",
   "version": "3.7.5"
  }
 },
 "nbformat": 4,
 "nbformat_minor": 2
}
